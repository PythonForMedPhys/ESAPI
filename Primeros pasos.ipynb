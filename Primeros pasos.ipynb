{
 "cells": [
  {
   "cell_type": "markdown",
   "id": "b821b9ed-5e21-4417-8623-7567dbef9b01",
   "metadata": {},
   "source": [
    "# Primeros pasos para la creación de una aplicación con ESAPI"
   ]
  },
  {
   "cell_type": "markdown",
   "id": "f6ba603d-42d9-41f1-a914-5c2fc2239b43",
   "metadata": {},
   "source": [
    "## Preparación de un espacio de trabajo"
   ]
  },
  {
   "cell_type": "markdown",
   "id": "f94b676d-86cc-4dad-9f14-dd68e1f9e158",
   "metadata": {},
   "source": [
    "### Visual Studio"
   ]
  },
  {
   "cell_type": "markdown",
   "id": "5cc2d3e8-d9d6-493e-9e58-50b4f91d9222",
   "metadata": {},
   "source": [
    "En nuestra computadora personal o en una computadora **no clínica** (como la TBOX), comenzaremos descargando e instalando [Visual Studio](https://visualstudio.microsoft.com/es/) (VS). "
   ]
  },
  {
   "cell_type": "markdown",
   "id": "e5bde874-02b8-4af4-bbfe-7caee103ab75",
   "metadata": {},
   "source": [
    "> VS en una herramienta que nos permite escribir lineas de código para la elaboración de aplicaciones."
   ]
  },
  {
   "cell_type": "markdown",
   "id": "469f154e-8ec9-4f17-b2c9-3737c9e6bc94",
   "metadata": {},
   "source": [
    "Durante la instalación, incluir las siguientes \"cargas de trabajo\":"
   ]
  },
  {
   "cell_type": "markdown",
   "id": "b9a5f160-9b39-4028-b5f9-603bf79bc763",
   "metadata": {},
   "source": [
    "![cargasDeTrabajo](CargasDeTrabajo.png)"
   ]
  },
  {
   "cell_type": "markdown",
   "id": "cdc618a5-c4ff-4f41-b73d-8421bd44c996",
   "metadata": {},
   "source": [
    "### Archivos dll, puente entre nuestra aplicación y Eclipse"
   ]
  },
  {
   "cell_type": "markdown",
   "id": "be751ca4-914f-4472-bf04-7e635ef63dfb",
   "metadata": {},
   "source": [
    "Para que nuestra aplicación pueda comunicarse con Eclipse, es necesario contar con dos librerías (o archivos). Estas librerías se encuentran en la estación de trabajo para cálculo (computadora con Eclipse).\n",
    "\n",
    "Generalmente, la ubicación de los archivos es la siguiente:\n",
    "\n",
    "> C: / Program Files (x86) / Varian / RTM / version / esapi /API"
   ]
  },
  {
   "cell_type": "markdown",
   "id": "87caac49-5580-4a55-ba7d-f4830b398482",
   "metadata": {},
   "source": [
    "![dll_files](dll_files.png)"
   ]
  },
  {
   "cell_type": "markdown",
   "id": "7cd157e6-2b83-410c-8205-9aca2171106a",
   "metadata": {},
   "source": [
    "Copiar los archivos y pegarlos en la computadora en donde tengamos instalado Visual Studio."
   ]
  },
  {
   "cell_type": "markdown",
   "id": "fb9ccebc-8d2c-40c1-b2dc-b7f9f3aa8df6",
   "metadata": {},
   "source": [
    "## Creación de un proyecto en VS"
   ]
  },
  {
   "cell_type": "markdown",
   "id": "a5986ee2-77e1-4ebe-bb2b-6449615f4e46",
   "metadata": {},
   "source": [
    "Abrir Visual Studio y crear un nuevo proyecto. Seleccionar la plantilla **Biblioteca de clases (.NET Framework)**, como se muestra en la figura siguiente. Dar click en *Siguiente*."
   ]
  },
  {
   "cell_type": "markdown",
   "id": "637d1039-37fa-4ea5-814d-b5958762ecba",
   "metadata": {},
   "source": [
    "![Nuevo projecto](NuevoProjecto.png)"
   ]
  },
  {
   "cell_type": "markdown",
   "id": "52bcb515-dc10-404e-92dd-61853a638222",
   "metadata": {},
   "source": [
    "Dar un nombre, por ejemplo **HolaMundo** y dar click en *Crear*"
   ]
  },
  {
   "cell_type": "markdown",
   "id": "94a3d907-1492-4a1e-ac63-c36af5a3a78f",
   "metadata": {},
   "source": [
    "![namingProject](NombreProjecto.png)"
   ]
  },
  {
   "cell_type": "markdown",
   "id": "e053457c-fce0-4fef-81f7-236d05b7736c",
   "metadata": {},
   "source": [
    "Posteriormente se abrirá el entorno de trabajo de Visual Studio. En el archivo Class1.cs, en necesario utilizar el *namespace* VMS.TPS para que nuestra aplicación pueda comunicarse con Eclipse. Sustituir el bloque de código con el siguiente:"
   ]
  },
  {
   "cell_type": "markdown",
   "id": "b528c801-23ca-44d5-a50b-6967485064c8",
   "metadata": {},
   "source": [
    "```cs\n",
    "namespace VMS.TPS\n",
    "{\n",
    "    public class Script\n",
    "    {\n",
    "        public void Execute(ScriptContext context)\n",
    "        {\n",
    "            // Escribir código aquí\n",
    "        }\n",
    "    }\n",
    "}\n",
    "```"
   ]
  },
  {
   "cell_type": "markdown",
   "id": "1b674506-6e79-4d5d-af86-6b14a27d8909",
   "metadata": {},
   "source": [
    "Al pasar el mouse sobre la palabra subrayada en rojo \"ScriptContext\", VS nos señala que no encuentra dicha expresión. Esto sucede debido a que aún no hemos indicado que dicho objeto se encuentra en nuestros archivos VMS.TPS...dll.\n"
   ]
  },
  {
   "cell_type": "markdown",
   "id": "ab73c928-968c-49cd-9f4e-2b1f0f788cd5",
   "metadata": {},
   "source": [
    "![contextError](scriptContextError.png)"
   ]
  },
  {
   "cell_type": "markdown",
   "id": "8e1f940e-b4d7-4093-bf53-6dad311b8b87",
   "metadata": {},
   "source": [
    "Para enlazar los archivos dll a nuestro proyecto, ir al apartado \"Explorardor de soluciones\" y dar click derecho en \"Referencias\".\n",
    "Seleccionar \"Agregar referencia...\""
   ]
  },
  {
   "cell_type": "markdown",
   "id": "75168d47-49f9-4832-aeb0-f356f61309fc",
   "metadata": {},
   "source": [
    "![agregarReferencias](agregarReferencia.png)"
   ]
  },
  {
   "cell_type": "markdown",
   "id": "045e8d22-273d-4c2d-8329-186c9eb54399",
   "metadata": {},
   "source": [
    "En la ventana emergente, seleccionamos *Examinar* y damos click en el boton *Examinar...*\n",
    "\n",
    "Seleccionamos los archivos\n",
    "\n",
    "* VMS.TPS.Common.Model.API.dll\n",
    "* VMS.TPS.Common.Model.Types.dll\n",
    "\n",
    "Damos click en *Agregar* y *Aceptar*"
   ]
  },
  {
   "cell_type": "markdown",
   "id": "b35bfec9-1ffc-4d88-ad2f-1924644864e0",
   "metadata": {},
   "source": [
    "Posteriormente, usaremos al ayuda de VS.\n",
    "1. Dar click derecho en la palabra subrayada en rojo *ScriptContext*.\n",
    "2. Seleccionar \"Acciones rápidas y refactorizaciones...\".\n",
    "3. Seleccionar \"using VMS.TPS.Common.Model.API;"
   ]
  },
  {
   "cell_type": "markdown",
   "id": "7201b2ec-9887-48c9-8fa2-5460ccc93a4a",
   "metadata": {},
   "source": [
    "![usingVMS](usingVMS.png)"
   ]
  },
  {
   "cell_type": "markdown",
   "id": "962924bf-7688-4627-90ce-1aa6e6b70cca",
   "metadata": {},
   "source": [
    "> Lo anterior agregará una nueva línea de código al inicio del script."
   ]
  },
  {
   "cell_type": "markdown",
   "id": "056ee45b-4536-4b71-a63b-0f3d25b663fd",
   "metadata": {},
   "source": [
    "El objeto **context** es una representación del paciente en Eclipse, por lo cual, podemos acceder a su información a través de **métodos**. Por ejemplo, para acceder al ID de un plan de tratamiento y mostrarlo en pantalla realizamos lo siguiente:"
   ]
  },
  {
   "cell_type": "markdown",
   "id": "c7ebd25f-f029-456a-b301-3f1ab58d56f0",
   "metadata": {},
   "source": [
    "![FirstLinesCode](firstLines.png)"
   ]
  },
  {
   "cell_type": "markdown",
   "id": "fe2f33f4-f4c9-4bd4-a199-3640d3119a0e",
   "metadata": {},
   "source": [
    "En la primera línea 6 de código incluimos la librería System.Windows, para posteriormente usar MessageBox.Show en la línea 18 para mostrar información del Id en pantalla.\n",
    "\n",
    "En la línea 16 creamos el objeto *plan* y almacenamos en él la información arrojada por el método ExternalPlanSetup aplicado sobre *context*.\n",
    "\n",
    "Posteriormente, en la variable *message* almacenamos la información arrojada por el método Id aplicado sobre el objeto plan."
   ]
  }
 ],
 "metadata": {
  "kernelspec": {
   "display_name": "Python 3 (ipykernel)",
   "language": "python",
   "name": "python3"
  },
  "language_info": {
   "codemirror_mode": {
    "name": "ipython",
    "version": 3
   },
   "file_extension": ".py",
   "mimetype": "text/x-python",
   "name": "python",
   "nbconvert_exporter": "python",
   "pygments_lexer": "ipython3",
   "version": "3.11.10"
  }
 },
 "nbformat": 4,
 "nbformat_minor": 5
}
